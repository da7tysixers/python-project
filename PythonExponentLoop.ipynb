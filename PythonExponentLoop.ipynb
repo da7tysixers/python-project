{
 "cells": [
  {
   "cell_type": "code",
   "execution_count": 4,
   "metadata": {},
   "outputs": [
    {
     "name": "stdout",
     "output_type": "stream",
     "text": [
      "0 1 2 3 "
     ]
    }
   ],
   "source": [
    "from IPython.display import display, Math\n",
    "\n",
    "#For loop tutorial:\n",
    "for i in [0,1,2,3]:\n",
    "    print(i, end=\" \")"
   ]
  },
  {
   "cell_type": "code",
   "execution_count": 6,
   "metadata": {},
   "outputs": [
    {
     "name": "stdout",
     "output_type": "stream",
     "text": [
      "0\n",
      "1\n",
      "2\n"
     ]
    }
   ],
   "source": [
    "#Range loop\n",
    "for variable in range(0,3):\n",
    "    print(variable)"
   ]
  },
  {
   "cell_type": "code",
   "execution_count": 8,
   "metadata": {},
   "outputs": [
    {
     "data": {
      "text/plain": [
       "[0, 3, 6, 9]"
      ]
     },
     "execution_count": 8,
     "metadata": {},
     "output_type": "execute_result"
    }
   ],
   "source": [
    "list(range(0,10,3))"
   ]
  },
  {
   "cell_type": "code",
   "execution_count": 22,
   "metadata": {},
   "outputs": [
    {
     "name": "stdout",
     "output_type": "stream",
     "text": [
      "This is the 0th iteration. \n",
      "This is the 1th iteration. \n",
      "This is the 2th iteration. \n"
     ]
    }
   ],
   "source": [
    "for qwerty in range(0,3):\n",
    "    print('This is the %gth iteration. ' %qwerty)"
   ]
  },
  {
   "cell_type": "code",
   "execution_count": 28,
   "metadata": {},
   "outputs": [
    {
     "name": "stdout",
     "output_type": "stream",
     "text": [
      "2 to the power of 0 is  1\n",
      "2 to the power of 1 is  2\n",
      "2 to the power of 2 is  4\n",
      "2 to the power of 3 is  8\n",
      "2 to the power of 4 is  16\n",
      "2 to the power of 5 is  32\n",
      "2 to the power of 6 is  64\n",
      "2 to the power of 7 is  128\n",
      "2 to the power of 8 is  256\n",
      "2 to the power of 9 is  512\n"
     ]
    }
   ],
   "source": [
    "#Exercise Exponent Using for loop:\n",
    "\n",
    "for num in range(0,10):\n",
    "    power = 2\n",
    "    result = power**num\n",
    "    print('2 to the power of %g is ' %num, result)"
   ]
  },
  {
   "cell_type": "code",
   "execution_count": 32,
   "metadata": {},
   "outputs": [
    {
     "name": "stdout",
     "output_type": "stream",
     "text": [
      "32 to the power of 0 is 1 \n",
      "32 to the power of 1 is 32 \n",
      "32 to the power of 2 is 1024 \n",
      "32 to the power of 3 is 32768 \n",
      "32 to the power of 4 is 1.04858e+06 \n",
      "32 to the power of 5 is 3.35544e+07 \n",
      "32 to the power of 6 is 1.07374e+09 \n",
      "32 to the power of 7 is 3.43597e+10 \n",
      "32 to the power of 8 is 1.09951e+12 \n",
      "32 to the power of 9 is 3.51844e+13 \n"
     ]
    }
   ],
   "source": [
    "base = 32\n",
    "for i in range(0,10):\n",
    "    print('%g to the power of %g is %g ' %(base,i,base**i))"
   ]
  }
 ],
 "metadata": {
  "kernelspec": {
   "display_name": "Python 3",
   "language": "python",
   "name": "python3"
  },
  "language_info": {
   "codemirror_mode": {
    "name": "ipython",
    "version": 3
   },
   "file_extension": ".py",
   "mimetype": "text/x-python",
   "name": "python",
   "nbconvert_exporter": "python",
   "pygments_lexer": "ipython3",
   "version": "3.8.5"
  }
 },
 "nbformat": 4,
 "nbformat_minor": 4
}
