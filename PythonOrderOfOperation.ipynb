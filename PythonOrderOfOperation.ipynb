{
 "cells": [
  {
   "cell_type": "code",
   "execution_count": 5,
   "metadata": {},
   "outputs": [
    {
     "data": {
      "text/latex": [
       "$\\displaystyle (4\\times5) / (7+3) = 2 $"
      ],
      "text/plain": [
       "<IPython.core.display.Math object>"
      ]
     },
     "metadata": {},
     "output_type": "display_data"
    }
   ],
   "source": [
    "from IPython.display import display, Math\n",
    "\n",
    "ans = (4*5)/(7+3)\n",
    "display(Math('(4\\\\times5) / (7+3) = %g ' %ans))"
   ]
  },
  {
   "cell_type": "code",
   "execution_count": 10,
   "metadata": {},
   "outputs": [
    {
     "data": {
      "text/latex": [
       "$\\displaystyle 9 / (3 + 6) - 1 = 0$"
      ],
      "text/plain": [
       "<IPython.core.display.Math object>"
      ]
     },
     "metadata": {},
     "output_type": "display_data"
    }
   ],
   "source": [
    "ans = 9/(3 + 6)- 1\n",
    "\n",
    "display(Math('9 / (3 + 6) - 1 = %g' %ans))\n"
   ]
  },
  {
   "cell_type": "code",
   "execution_count": 18,
   "metadata": {},
   "outputs": [
    {
     "name": "stdout",
     "output_type": "stream",
     "text": [
      "True\n"
     ]
    }
   ],
   "source": [
    "# Inequalities and boolean data type\n",
    "b = 10 > 3*3\n",
    "print(b)"
   ]
  },
  {
   "cell_type": "code",
   "execution_count": 30,
   "metadata": {},
   "outputs": [
    {
     "name": "stdout",
     "output_type": "stream",
     "text": [
      "True\n"
     ]
    }
   ],
   "source": [
    "#Exercise 1\n",
    "x = 2\n",
    "ans = (4*x)+3 < 17-(x**x)\n",
    "print(ans)"
   ]
  },
  {
   "cell_type": "code",
   "execution_count": 34,
   "metadata": {},
   "outputs": [
    {
     "name": "stdout",
     "output_type": "stream",
     "text": [
      "True\n"
     ]
    }
   ],
   "source": [
    "#Exercise 2\n",
    "x = 3\n",
    "ans = (8*x) <= (-3*x)+42\n",
    "print(ans)"
   ]
  },
  {
   "cell_type": "code",
   "execution_count": 39,
   "metadata": {},
   "outputs": [
    {
     "name": "stdout",
     "output_type": "stream",
     "text": [
      "4\n"
     ]
    },
    {
     "data": {
      "text/latex": [
       "$\\displaystyle  |-8| = 8$"
      ],
      "text/plain": [
       "<IPython.core.display.Math object>"
      ]
     },
     "metadata": {},
     "output_type": "display_data"
    }
   ],
   "source": [
    "#Absolute Values\n",
    "a = -4\n",
    "b = abs(a)\n",
    "print(b)\n",
    "\n",
    "#Using Pipe symbole to show the absolute sign in python\n",
    "x = -8\n",
    "display(Math(' |%g| = %g' %(x,abs(x))))"
   ]
  },
  {
   "cell_type": "code",
   "execution_count": 46,
   "metadata": {},
   "outputs": [
    {
     "name": "stdout",
     "output_type": "stream",
     "text": [
      "-4 was not tested \n",
      "\n",
      " Absolute value of 6 is 6\n",
      "\n",
      "-1 was not tested \n",
      "\n",
      " Absolute value of 43 is 43\n",
      "\n",
      " Absolute value of -18 is 18\n",
      "\n",
      "2 was not tested \n",
      "\n",
      "0 was not tested \n",
      "\n"
     ]
    }
   ],
   "source": [
    "#Exercise 1 Absolute value using loop:\n",
    "list_of_numbers = [-4,6,-1,43,-18,2,0]\n",
    "\n",
    "for value in list_of_numbers:\n",
    "    if((value < -5) or (value > 2)):\n",
    "        print(' Absolute value of %g is %g' %(value, abs(value)))\n",
    "        print(end =\"\\n\")\n",
    "    else:\n",
    "        print('%g was not tested ' %value)\n",
    "        print(end=\"\\n\")"
   ]
  }
 ],
 "metadata": {
  "kernelspec": {
   "display_name": "Python 3",
   "language": "python",
   "name": "python3"
  },
  "language_info": {
   "codemirror_mode": {
    "name": "ipython",
    "version": 3
   },
   "file_extension": ".py",
   "mimetype": "text/x-python",
   "name": "python",
   "nbconvert_exporter": "python",
   "pygments_lexer": "ipython3",
   "version": "3.8.5"
  }
 },
 "nbformat": 4,
 "nbformat_minor": 4
}
